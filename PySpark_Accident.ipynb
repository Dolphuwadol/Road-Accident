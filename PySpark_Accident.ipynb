{
 "cells": [
  {
   "cell_type": "markdown",
   "id": "ce4bc3d1",
   "metadata": {},
   "source": [
    "## อุบัติเหตุบนโครงข่ายถนนของกระทรวงคมนาคม\n",
    "\n",
    "แหล่งข้อมูล: https://data.go.th/en/dataset/gdpublish-roadaccident\n"
   ]
  },
  {
   "cell_type": "code",
   "execution_count": 2,
   "id": "6017075f",
   "metadata": {},
   "outputs": [
    {
     "data": {
      "text/plain": [
       "'C:\\\\spark\\\\spark-3.4.1-bin-hadoop3'"
      ]
     },
     "execution_count": 2,
     "metadata": {},
     "output_type": "execute_result"
    }
   ],
   "source": [
    "import os\n",
    "\n",
    "os.getenv('SPARK_HOME')"
   ]
  },
  {
   "cell_type": "code",
   "execution_count": 3,
   "id": "851750ee",
   "metadata": {},
   "outputs": [],
   "source": [
    "# Python library API that locate Spark on System\n",
    "import findspark \n",
    "\n",
    "findspark.init()"
   ]
  },
  {
   "cell_type": "code",
   "execution_count": 4,
   "id": "90614dc4",
   "metadata": {},
   "outputs": [],
   "source": [
    "#import pyspark.sql for data transformation\n",
    "from pyspark.sql import SparkSession\n",
    "from pyspark.sql.functions import *"
   ]
  },
  {
   "cell_type": "code",
   "execution_count": 5,
   "id": "4debdddf",
   "metadata": {},
   "outputs": [],
   "source": [
    "# SparkSession is the entry point\n",
    "spark = (SparkSession\n",
    "         .builder\n",
    "         .appName(\"Accident\")\n",
    "         .getOrCreate())"
   ]
  },
  {
   "cell_type": "markdown",
   "id": "02bc21b9",
   "metadata": {},
   "source": [
    "### Read - input data (CSV files)"
   ]
  },
  {
   "cell_type": "markdown",
   "id": "c74874b1",
   "metadata": {},
   "source": [
    "### โหลดข้อมูลปี 2566\n"
   ]
  },
  {
   "cell_type": "code",
   "execution_count": 6,
   "id": "39dbd01c",
   "metadata": {},
   "outputs": [],
   "source": [
    "spark.sparkContext.setLogLevel(\"WARN\")\n",
    "\n",
    "DIRECTORY = \"data/Accident/\"\n",
    "\n",
    "## ข้อมูลปี 2566\n",
    "logs_2566 = spark.read.csv(\n",
    "    os.path.join(DIRECTORY, \"accident2023_m4.CSV\"),\n",
    "    header = True,\n",
    "    inferSchema = True,\n",
    "    encoding=\"UTF-8\"\n",
    ")"
   ]
  },
  {
   "cell_type": "code",
   "execution_count": 7,
   "id": "40c468d9",
   "metadata": {},
   "outputs": [
    {
     "name": "stdout",
     "output_type": "stream",
     "text": [
      "root\n",
      " |-- ปีที่เกิดเหตุ: integer (nullable = true)\n",
      " |-- วันที่เกิดเหตุ: string (nullable = true)\n",
      " |-- เวลา: timestamp (nullable = true)\n",
      " |-- วันที่รายงาน: string (nullable = true)\n",
      " |-- เวลาที่รายงาน: timestamp (nullable = true)\n",
      " |-- ACC_CODE: integer (nullable = true)\n",
      " |-- หน่วยงาน: string (nullable = true)\n",
      " |-- รหัสสายทาง: string (nullable = true)\n",
      " |-- สายทาง: string (nullable = true)\n",
      " |-- ก.ม.: double (nullable = true)\n",
      " |-- จังหวัด: string (nullable = true)\n",
      " |-- รถคันที่ 1: string (nullable = true)\n",
      " |-- บริเวณที่เกิดเหตุ/ลักษณะทาง: string (nullable = true)\n",
      " |-- มูลเหตุสันนิษฐาน: string (nullable = true)\n",
      " |-- ลักษณะการเกิดอุบัติเหตุ: string (nullable = true)\n",
      " |-- สภาพอากาศ: string (nullable = true)\n",
      " |-- LATITUDE: double (nullable = true)\n",
      " |-- LONGITUDE: double (nullable = true)\n",
      " |-- จำนวนรถที่เกิดเหตุ (รวมคันที่ 1): integer (nullable = true)\n",
      " |-- จำนวนที่เกิดเหตุทั้งหมด (รวมคนเดินเท้า): integer (nullable = true)\n",
      " |-- รถจักรยานยนต์: integer (nullable = true)\n",
      " |-- รถสามล้อเครื่อง: integer (nullable = true)\n",
      " |-- รถยนต์นั่งส่วนบุคคล/รถยนต์นั่งสาธารณะ: integer (nullable = true)\n",
      " |-- รถตู้: integer (nullable = true)\n",
      " |-- รถปิคอัพโดยสาร: integer (nullable = true)\n",
      " |-- รถโดยสารมากกว่า 4 ล้อ: integer (nullable = true)\n",
      " |-- รถปิคอัพบรรทุก 4 ล้อ: integer (nullable = true)\n",
      " |-- รถบรรทุก 6 ล้อ: integer (nullable = true)\n",
      " |-- รถบรรทุกมากกว่า 6 ล้อ ไม่เกิน 10 ล้อ: integer (nullable = true)\n",
      " |-- รถบรรทุกมากกว่า 10 ล้อ (รถพ่วง): integer (nullable = true)\n",
      " |-- รถอีแต๋น: integer (nullable = true)\n",
      " |-- อื่นๆ: integer (nullable = true)\n",
      " |-- คนเดินเท้า: integer (nullable = true)\n",
      " |-- จำนวนผู้เสียชีวิต: integer (nullable = true)\n",
      " |-- จำนวนผู้บาดเจ็บสาหัส: integer (nullable = true)\n",
      " |-- จำนวนผู้บาดเจ็บเล็กน้อย: integer (nullable = true)\n",
      " |-- รวมจำนวนผู้บาดเจ็บ: integer (nullable = true)\n",
      "\n"
     ]
    }
   ],
   "source": [
    "logs_2566.printSchema()"
   ]
  },
  {
   "cell_type": "code",
   "execution_count": 8,
   "id": "309d9fdb",
   "metadata": {},
   "outputs": [
    {
     "name": "stdout",
     "output_type": "stream",
     "text": [
      "+--------------------+\n",
      "|count(ปีที่เกิดเหตุ)|\n",
      "+--------------------+\n",
      "|                8022|\n",
      "+--------------------+\n",
      "\n"
     ]
    }
   ],
   "source": [
    "import pyspark.sql.functions as F\n",
    "\n",
    "logs_2566.select(F.count(F.col(\"ปีที่เกิดเหตุ\"))).show()"
   ]
  },
  {
   "cell_type": "code",
   "execution_count": 9,
   "id": "3d0b77d6",
   "metadata": {},
   "outputs": [
    {
     "name": "stdout",
     "output_type": "stream",
     "text": [
      "+--------------+--------------+------------+--------------------+--------------------+-----------------------+\n",
      "|วันที่เกิดเหตุ|      หน่วยงาน|     จังหวัด|          รถคันที่ 1|    มูลเหตุสันนิษฐาน|ลักษณะการเกิดอุบัติเหตุ|\n",
      "+--------------+--------------+------------+--------------------+--------------------+-----------------------+\n",
      "|      1/1/2023|กรมทางหลวงชนบท|       ระนอง|       รถจักรยานยนต์|              หลับใน|                   null|\n",
      "|      1/1/2023|    กรมทางหลวง|สุราษฎร์ธานี|รถปิคอัพบรรทุก 4 ล้อ|ขับรถเร็วเกินอัตร...|   พลิกคว่ำ/ตกถนนในท...|\n",
      "|      1/1/2023|กรมทางหลวงชนบท| สมุทรสงคราม|       รถจักรยานยนต์|             เมาสุรา|                   null|\n",
      "|      1/1/2023|    กรมทางหลวง|   เพชรบูรณ์|       รถจักรยานยนต์|ขับรถเร็วเกินอัตร...|   ชนในทิศทางตรงกันข...|\n",
      "|      1/1/2023|    กรมทางหลวง|   กำแพงเพชร|               อื่นๆ|ขับรถเร็วเกินอัตร...|           ชนคนเดินเท้า|\n",
      "+--------------+--------------+------------+--------------------+--------------------+-----------------------+\n",
      "only showing top 5 rows\n",
      "\n"
     ]
    }
   ],
   "source": [
    "logs_2566.select(\"วันที่เกิดเหตุ\", \"หน่วยงาน\", \"จังหวัด\", \"รถคันที่ 1\" ,\"มูลเหตุสันนิษฐาน\", \"ลักษณะการเกิดอุบัติเหตุ\").show(5, truncate=True)"
   ]
  },
  {
   "cell_type": "markdown",
   "id": "64be80fa",
   "metadata": {},
   "source": [
    "### โหลดข้อมูลปี 2565-2564"
   ]
  },
  {
   "cell_type": "code",
   "execution_count": 10,
   "id": "4f0fc1ac",
   "metadata": {},
   "outputs": [],
   "source": [
    "#ข้อมูลปี 2565\n",
    "logs_2565 = spark.read.csv(\n",
    "    os.path.join(DIRECTORY, \"accident2022.CSV\"),\n",
    "    header = True,\n",
    "    inferSchema = True,\n",
    "    encoding=\"UTF-8\"\n",
    ")"
   ]
  },
  {
   "cell_type": "code",
   "execution_count": 11,
   "id": "97e29e19",
   "metadata": {},
   "outputs": [],
   "source": [
    "#ข้อมูลปี 2564\n",
    "logs_2564 = spark.read.csv(\n",
    "    os.path.join(DIRECTORY, \"accident2021.CSV\"),\n",
    "    header = True,\n",
    "    inferSchema = True,\n",
    "    encoding=\"UTF-8\"\n",
    ")"
   ]
  },
  {
   "cell_type": "markdown",
   "id": "4dd9a301",
   "metadata": {},
   "source": [
    "### ข้อมูลปี 2565"
   ]
  },
  {
   "cell_type": "code",
   "execution_count": 12,
   "id": "8f70c29c",
   "metadata": {},
   "outputs": [
    {
     "name": "stdout",
     "output_type": "stream",
     "text": [
      "+--------------------+\n",
      "|count(ปีที่เกิดเหตุ)|\n",
      "+--------------------+\n",
      "|               21032|\n",
      "+--------------------+\n",
      "\n"
     ]
    }
   ],
   "source": [
    "logs_2565.select(F.count(F.col(\"ปีที่เกิดเหตุ\"))).show()"
   ]
  },
  {
   "cell_type": "code",
   "execution_count": 13,
   "id": "cea6e49c",
   "metadata": {},
   "outputs": [
    {
     "name": "stdout",
     "output_type": "stream",
     "text": [
      "+--------------+--------------+---------+--------------------+--------------------+-----------------------+\n",
      "|วันที่เกิดเหตุ|      หน่วยงาน|  จังหวัด|          รถคันที่ 1|    มูลเหตุสันนิษฐาน|ลักษณะการเกิดอุบัติเหตุ|\n",
      "+--------------+--------------+---------+--------------------+--------------------+-----------------------+\n",
      "|      1/1/2022|กรมทางหลวงชนบท|   ชัยนาท|       รถจักรยานยนต์|             เมาสุรา|                   null|\n",
      "|      1/1/2022|กรมทางหลวงชนบท|มหาสารคาม|       รถจักรยานยนต์|ใช้โทรศัพท์เคลื่อ...|                   null|\n",
      "|      1/1/2022|    กรมทางหลวง|    ชุมพร|รถยนต์นั่งส่วนบุค...|ขับรถเร็วเกินอัตร...|   พลิกคว่ำ/ตกถนนในท...|\n",
      "|      1/1/2022|    กรมทางหลวง|   ภูเก็ต|       รถจักรยานยนต์|             เมาสุรา|   พลิกคว่ำ/ตกถนนในท...|\n",
      "|      1/1/2022|    กรมทางหลวง| อุดรธานี|รถปิคอัพบรรทุก 4 ล้อ|ขับรถเร็วเกินอัตร...|   พลิกคว่ำ/ตกถนนในท...|\n",
      "+--------------+--------------+---------+--------------------+--------------------+-----------------------+\n",
      "only showing top 5 rows\n",
      "\n"
     ]
    }
   ],
   "source": [
    "logs_2565.select(\"วันที่เกิดเหตุ\", \"หน่วยงาน\", \"จังหวัด\", \"รถคันที่ 1\" ,\"มูลเหตุสันนิษฐาน\", \"ลักษณะการเกิดอุบัติเหตุ\").show(5, truncate=True)"
   ]
  },
  {
   "cell_type": "markdown",
   "id": "5a365ebd",
   "metadata": {},
   "source": [
    "### ข้อมูลปี 2564"
   ]
  },
  {
   "cell_type": "code",
   "execution_count": 14,
   "id": "f8c36d20",
   "metadata": {},
   "outputs": [
    {
     "name": "stdout",
     "output_type": "stream",
     "text": [
      "+--------------------+\n",
      "|count(ปีที่เกิดเหตุ)|\n",
      "+--------------------+\n",
      "|               20457|\n",
      "+--------------------+\n",
      "\n"
     ]
    }
   ],
   "source": [
    "logs_2564.select(F.count(F.col(\"ปีที่เกิดเหตุ\"))).show()"
   ]
  },
  {
   "cell_type": "code",
   "execution_count": 15,
   "id": "fc4b778f",
   "metadata": {},
   "outputs": [
    {
     "name": "stdout",
     "output_type": "stream",
     "text": [
      "+--------------+--------------+------------+-------------------------------------+-----------------------+-----------------------+\n",
      "|วันที่เกิดเหตุ|หน่วยงาน      |จังหวัด     |รถคันที่ 1                           |มูลเหตุสันนิษฐาน       |ลักษณะการเกิดอุบัติเหตุ|\n",
      "+--------------+--------------+------------+-------------------------------------+-----------------------+-----------------------+\n",
      "|1/1/2021      |กรมทางหลวง    |ร้อยเอ็ด    |รถปิคอัพบรรทุก 4 ล้อ                 |ขับรถเร็วเกินอัตรากำหนด|พลิกคว่ำ/ตกถนนในทางตรง |\n",
      "|1/1/2021      |กรมทางหลวงชนบท|สกลนคร      |รถจักรยานยนต์                        |เมาสุรา                |null                   |\n",
      "|1/1/2021      |กรมทางหลวงชนบท|มุกดาหาร    |รถจักรยานยนต์                        |เมาสุรา                |null                   |\n",
      "|1/1/2021      |กรมทางหลวง    |สุราษฎร์ธานี|รถยนต์นั่งส่วนบุคคล/รถยนต์นั่งสาธารณะ|ขับรถเร็วเกินอัตรากำหนด|ชนท้าย                 |\n",
      "|1/1/2021      |กรมทางหลวง    |พิษณุโลก    |รถจักรยานยนต์                        |ขับรถเร็วเกินอัตรากำหนด|พลิกคว่ำ/ตกถนนในทางโค้ง|\n",
      "+--------------+--------------+------------+-------------------------------------+-----------------------+-----------------------+\n",
      "only showing top 5 rows\n",
      "\n"
     ]
    }
   ],
   "source": [
    "logs_2564.select(\"วันที่เกิดเหตุ\", \"หน่วยงาน\", \"จังหวัด\", \"รถคันที่ 1\" ,\"มูลเหตุสันนิษฐาน\", \"ลักษณะการเกิดอุบัติเหตุ\").show(5,False)"
   ]
  },
  {
   "cell_type": "markdown",
   "id": "b24c4025",
   "metadata": {},
   "source": [
    "### นำข้อมูลปี 2566-2564 มารวมกัน"
   ]
  },
  {
   "cell_type": "code",
   "execution_count": 16,
   "id": "1149c82f",
   "metadata": {},
   "outputs": [],
   "source": [
    "logs = logs_2566.union(logs_2565).union(logs_2564)"
   ]
  },
  {
   "cell_type": "code",
   "execution_count": 17,
   "id": "d61782bd",
   "metadata": {},
   "outputs": [
    {
     "name": "stdout",
     "output_type": "stream",
     "text": [
      "+----------------------+\n",
      "|จำนวนการเกิดอุบัติเหตุ|\n",
      "+----------------------+\n",
      "|                 49511|\n",
      "+----------------------+\n",
      "\n"
     ]
    }
   ],
   "source": [
    "logs.select(F.count(F.col(\"ปีที่เกิดเหตุ\")).alias(\"จำนวนการเกิดอุบัติเหตุ\")).show()"
   ]
  },
  {
   "cell_type": "code",
   "execution_count": 18,
   "id": "b4fff775",
   "metadata": {},
   "outputs": [
    {
     "name": "stdout",
     "output_type": "stream",
     "text": [
      "root\n",
      " |-- ปีที่เกิดเหตุ: integer (nullable = true)\n",
      " |-- วันที่เกิดเหตุ: string (nullable = true)\n",
      " |-- เวลา: timestamp (nullable = true)\n",
      " |-- วันที่รายงาน: string (nullable = true)\n",
      " |-- เวลาที่รายงาน: timestamp (nullable = true)\n",
      " |-- ACC_CODE: integer (nullable = true)\n",
      " |-- หน่วยงาน: string (nullable = true)\n",
      " |-- รหัสสายทาง: string (nullable = true)\n",
      " |-- สายทาง: string (nullable = true)\n",
      " |-- ก.ม.: double (nullable = true)\n",
      " |-- จังหวัด: string (nullable = true)\n",
      " |-- รถคันที่ 1: string (nullable = true)\n",
      " |-- บริเวณที่เกิดเหตุ/ลักษณะทาง: string (nullable = true)\n",
      " |-- มูลเหตุสันนิษฐาน: string (nullable = true)\n",
      " |-- ลักษณะการเกิดอุบัติเหตุ: string (nullable = true)\n",
      " |-- สภาพอากาศ: string (nullable = true)\n",
      " |-- LATITUDE: double (nullable = true)\n",
      " |-- LONGITUDE: double (nullable = true)\n",
      " |-- จำนวนรถที่เกิดเหตุ (รวมคันที่ 1): integer (nullable = true)\n",
      " |-- จำนวนที่เกิดเหตุทั้งหมด (รวมคนเดินเท้า): integer (nullable = true)\n",
      " |-- รถจักรยานยนต์: integer (nullable = true)\n",
      " |-- รถสามล้อเครื่อง: integer (nullable = true)\n",
      " |-- รถยนต์นั่งส่วนบุคคล/รถยนต์นั่งสาธารณะ: integer (nullable = true)\n",
      " |-- รถตู้: integer (nullable = true)\n",
      " |-- รถปิคอัพโดยสาร: integer (nullable = true)\n",
      " |-- รถโดยสารมากกว่า 4 ล้อ: integer (nullable = true)\n",
      " |-- รถปิคอัพบรรทุก 4 ล้อ: integer (nullable = true)\n",
      " |-- รถบรรทุก 6 ล้อ: integer (nullable = true)\n",
      " |-- รถบรรทุกมากกว่า 6 ล้อ ไม่เกิน 10 ล้อ: integer (nullable = true)\n",
      " |-- รถบรรทุกมากกว่า 10 ล้อ (รถพ่วง): integer (nullable = true)\n",
      " |-- รถอีแต๋น: integer (nullable = true)\n",
      " |-- อื่นๆ: integer (nullable = true)\n",
      " |-- คนเดินเท้า: integer (nullable = true)\n",
      " |-- จำนวนผู้เสียชีวิต: integer (nullable = true)\n",
      " |-- จำนวนผู้บาดเจ็บสาหัส: integer (nullable = true)\n",
      " |-- จำนวนผู้บาดเจ็บเล็กน้อย: integer (nullable = true)\n",
      " |-- รวมจำนวนผู้บาดเจ็บ: integer (nullable = true)\n",
      "\n"
     ]
    }
   ],
   "source": [
    "logs.printSchema()"
   ]
  },
  {
   "cell_type": "code",
   "execution_count": 19,
   "id": "ce482c57",
   "metadata": {},
   "outputs": [],
   "source": [
    "logs = logs.withColumnRenamed(\"ปีที่เกิดเหตุ\", \"Year\") \\\n",
    "    .withColumnRenamed(\"วันที่เกิดเหตุ\", \"Date\") \\\n",
    "    .withColumnRenamed(\"เวลา\", \"Time\") \\\n",
    "    .withColumnRenamed(\"วันที่รายงาน\", \"Report_Date\") \\\n",
    "    .withColumnRenamed(\"เวลาที่รายงาน\", \"Report_Time\") \\\n",
    "    .withColumnRenamed(\"ACC_CODE\", \"ACC_CODE\") \\\n",
    "    .withColumnRenamed(\"หน่วยงาน\", \"Unit\") \\\n",
    "    .withColumnRenamed(\"รหัสสายทาง\", \"Road_Code\") \\\n",
    "    .withColumnRenamed(\"สายทาง\", \"Road\") \\\n",
    "    .withColumnRenamed(\"ก.ม.\", \"Kilometer\") \\\n",
    "    .withColumnRenamed(\"จังหวัด\", \"Province\") \\\n",
    "    .withColumnRenamed(\"รถคันที่ 1\", \"Vehicle1\") \\\n",
    "    .withColumnRenamed(\"บริเวณที่เกิดเหตุ/ลักษณะทาง\", \"Accident_Location/Path_Description\") \\\n",
    "    .withColumnRenamed(\"มูลเหตุสันนิษฐาน\", \"Presumed_Cause\") \\\n",
    "    .withColumnRenamed(\"ลักษณะการเกิดอุบัติเหตุ\", \"Accident_Type\") \\\n",
    "    .withColumnRenamed(\"สภาพอากาศ\", \"Weather\") \\\n",
    "    .withColumnRenamed(\"LATITUDE\", \"Latitude\") \\\n",
    "    .withColumnRenamed(\"LONGITUDE\", \"Longitude\") \\\n",
    "    .withColumnRenamed(\"จำนวนรถที่เกิดเหตุ (รวมคันที่ 1)\", \"Number_of_Vehicles_Involved\") \\\n",
    "    .withColumnRenamed(\"จำนวนที่เกิดเหตุทั้งหมด (รวมคนเดินเท้า)\", \"Total_Number_of_Incidents\") \\\n",
    "    .withColumnRenamed(\"รถจักรยานยนต์\", \"Motorcycle\") \\\n",
    "    .withColumnRenamed(\"รถสามล้อเครื่อง\", \"Three-wheeled_Vehicle\") \\\n",
    "    .withColumnRenamed(\"รถยนต์นั่งส่วนบุคคล/รถยนต์นั่งสาธารณะ\", \"Personal_Car/Public_Transport_Car\") \\\n",
    "    .withColumnRenamed(\"รถตู้\", \"Van\") \\\n",
    "    .withColumnRenamed(\"รถปิคอัพโดยสาร\", \"Pickup_Truck\") \\\n",
    "    .withColumnRenamed(\"รถโดยสารมากกว่า 4 ล้อ\", \"Passenger_Car\") \\\n",
    "    .withColumnRenamed(\"รถปิคอัพบรรทุก 4 ล้อ\", \"Pickup_Truck\") \\\n",
    "    .withColumnRenamed(\"รถบรรทุก 6 ล้อ\", \"Truck_6\") \\\n",
    "    .withColumnRenamed(\"รถบรรทุกมากกว่า 6 ล้อ ไม่เกิน 10 ล้อ\", \"Truck_>6<10\") \\\n",
    "    .withColumnRenamed(\"รถบรรทุกมากกว่า 10 ล้อ (รถพ่วง)\", \"Truck_>10\") \\\n",
    "    .withColumnRenamed(\"รถอีแต๋น\", \"TukTuk\") \\\n",
    "    .withColumnRenamed(\"อื่นๆ\", \"Other\") \\\n",
    "    .withColumnRenamed(\"คนเดินเท้า\", \"Pedestrian\") \\\n",
    "    .withColumnRenamed(\"จำนวนผู้เสียชีวิต\", \"Number_of_Fatalities\") \\\n",
    "    .withColumnRenamed(\"จำนวนผู้บาดเจ็บสาหัส\", \"Number_of_Severe_Injuries\") \\\n",
    "    .withColumnRenamed(\"จำนวนผู้บาดเจ็บเล็กน้อย\", \"Number_of_Minor_Injuries\") \\\n",
    "    .withColumnRenamed(\"รวมจำนวนผู้บาดเจ็บ\", \"Total_of_Injuries\") \n"
   ]
  },
  {
   "cell_type": "code",
   "execution_count": 20,
   "id": "5de08115",
   "metadata": {},
   "outputs": [
    {
     "name": "stdout",
     "output_type": "stream",
     "text": [
      "root\n",
      " |-- Year: integer (nullable = true)\n",
      " |-- Date: string (nullable = true)\n",
      " |-- Time: timestamp (nullable = true)\n",
      " |-- Report_Date: string (nullable = true)\n",
      " |-- Report_Time: timestamp (nullable = true)\n",
      " |-- ACC_CODE: integer (nullable = true)\n",
      " |-- Unit: string (nullable = true)\n",
      " |-- Road_Code: string (nullable = true)\n",
      " |-- Road: string (nullable = true)\n",
      " |-- Kilometer: double (nullable = true)\n",
      " |-- Province: string (nullable = true)\n",
      " |-- Vehicle1: string (nullable = true)\n",
      " |-- Accident_Location/Path_Description: string (nullable = true)\n",
      " |-- Presumed_Cause: string (nullable = true)\n",
      " |-- Accident_Type: string (nullable = true)\n",
      " |-- Weather: string (nullable = true)\n",
      " |-- Latitude: double (nullable = true)\n",
      " |-- Longitude: double (nullable = true)\n",
      " |-- Number_of_Vehicles_Involved: integer (nullable = true)\n",
      " |-- Total_Number_of_Incidents: integer (nullable = true)\n",
      " |-- Motorcycle: integer (nullable = true)\n",
      " |-- Three-wheeled_Vehicle: integer (nullable = true)\n",
      " |-- Personal_Car/Public_Transport_Car: integer (nullable = true)\n",
      " |-- Van: integer (nullable = true)\n",
      " |-- Pickup_Truck: integer (nullable = true)\n",
      " |-- Passenger_Car: integer (nullable = true)\n",
      " |-- Pickup_Truck: integer (nullable = true)\n",
      " |-- Truck_6: integer (nullable = true)\n",
      " |-- Truck_>6<10: integer (nullable = true)\n",
      " |-- Truck_>10: integer (nullable = true)\n",
      " |-- TukTuk: integer (nullable = true)\n",
      " |-- Other: integer (nullable = true)\n",
      " |-- Pedestrian: integer (nullable = true)\n",
      " |-- Number_of_Fatalities: integer (nullable = true)\n",
      " |-- Number_of_Severe_Injuries: integer (nullable = true)\n",
      " |-- Number_of_Minor_Injuries: integer (nullable = true)\n",
      " |-- Total_of_Injuries: integer (nullable = true)\n",
      "\n"
     ]
    }
   ],
   "source": [
    "logs.printSchema()"
   ]
  },
  {
   "cell_type": "code",
   "execution_count": 21,
   "id": "a089f5b2",
   "metadata": {},
   "outputs": [
    {
     "name": "stdout",
     "output_type": "stream",
     "text": [
      "+----+--------+--------------+------------+--------------------+-----------------------+-----------------------------------+\n",
      "|Year|Date    |Unit          |Province    |Vehicle1            |Presumed_Cause         |Accident_Type                      |\n",
      "+----+--------+--------------+------------+--------------------+-----------------------+-----------------------------------+\n",
      "|2023|1/1/2023|กรมทางหลวงชนบท|ระนอง       |รถจักรยานยนต์       |หลับใน                 |null                               |\n",
      "|2023|1/1/2023|กรมทางหลวง    |สุราษฎร์ธานี|รถปิคอัพบรรทุก 4 ล้อ|ขับรถเร็วเกินอัตรากำหนด|พลิกคว่ำ/ตกถนนในทางโค้ง            |\n",
      "|2023|1/1/2023|กรมทางหลวงชนบท|สมุทรสงคราม |รถจักรยานยนต์       |เมาสุรา                |null                               |\n",
      "|2023|1/1/2023|กรมทางหลวง    |เพชรบูรณ์   |รถจักรยานยนต์       |ขับรถเร็วเกินอัตรากำหนด|ชนในทิศทางตรงกันข้าม (ไม่ใช่การแซง)|\n",
      "|2023|1/1/2023|กรมทางหลวง    |กำแพงเพชร   |อื่นๆ               |ขับรถเร็วเกินอัตรากำหนด|ชนคนเดินเท้า                       |\n",
      "+----+--------+--------------+------------+--------------------+-----------------------+-----------------------------------+\n",
      "only showing top 5 rows\n",
      "\n"
     ]
    }
   ],
   "source": [
    "# ตัวอย่าง Data\n",
    "logs.select(\"Year\", \"Date\",\"Unit\", \"Province\", \"Vehicle1\" ,\"Presumed_Cause\", \"Accident_Type\").show(5,False)"
   ]
  },
  {
   "cell_type": "code",
   "execution_count": 22,
   "id": "e5c8f249",
   "metadata": {},
   "outputs": [],
   "source": [
    "# สร้างตารางชั่วคราวสำหรับใช้คำสั่ง SQL\n",
    "logs.createOrReplaceTempView(\"logs\")"
   ]
  },
  {
   "cell_type": "code",
   "execution_count": 23,
   "id": "1d23a1ef",
   "metadata": {},
   "outputs": [
    {
     "name": "stdout",
     "output_type": "stream",
     "text": [
      "+-------------+----------------------+\n",
      "|ปีที่เกิดเหตุ|จำนวนการเกิดอุบัติเหตุ|\n",
      "+-------------+----------------------+\n",
      "|         2023|                  8022|\n",
      "|         2022|                 21032|\n",
      "|         2021|                 20457|\n",
      "+-------------+----------------------+\n",
      "\n"
     ]
    }
   ],
   "source": [
    "# จำนวนการเกิดอุบัติเหตุแยกตามปี\n",
    "spark.sql('SELECT Year as `ปีที่เกิดเหตุ`, COUNT(*) as `จำนวนการเกิดอุบัติเหตุ` \\\n",
    "          FROM logs \\\n",
    "          GROUP BY Year').show()"
   ]
  },
  {
   "cell_type": "code",
   "execution_count": 24,
   "id": "3fcf9ab7",
   "metadata": {},
   "outputs": [
    {
     "name": "stdout",
     "output_type": "stream",
     "text": [
      "+----+--------+--------------+---------+--------------------+--------------------+--------------------+\n",
      "|Year|    Date|          Unit| Province|            Vehicle1|      Presumed_Cause|       Accident_Type|\n",
      "+----+--------+--------------+---------+--------------------+--------------------+--------------------+\n",
      "|2022|1/1/2022|กรมทางหลวงชนบท|   ชัยนาท|       รถจักรยานยนต์|             เมาสุรา|                null|\n",
      "|2022|1/1/2022|กรมทางหลวงชนบท|มหาสารคาม|       รถจักรยานยนต์|ใช้โทรศัพท์เคลื่อ...|                null|\n",
      "|2022|1/1/2022|    กรมทางหลวง|    ชุมพร|รถยนต์นั่งส่วนบุค...|ขับรถเร็วเกินอัตร...|พลิกคว่ำ/ตกถนนในท...|\n",
      "|2022|1/1/2022|    กรมทางหลวง|   ภูเก็ต|       รถจักรยานยนต์|             เมาสุรา|พลิกคว่ำ/ตกถนนในท...|\n",
      "|2022|1/1/2022|    กรมทางหลวง| อุดรธานี|รถปิคอัพบรรทุก 4 ล้อ|ขับรถเร็วเกินอัตร...|พลิกคว่ำ/ตกถนนในท...|\n",
      "+----+--------+--------------+---------+--------------------+--------------------+--------------------+\n",
      "only showing top 5 rows\n",
      "\n"
     ]
    }
   ],
   "source": [
    "# ข้อมูลปี 2022\n",
    "spark.sql('SELECT Year,Date,Unit, Province, Vehicle1 ,Presumed_Cause, Accident_Type \\\n",
    "          FROM logs \\\n",
    "          Where Year = 2022').show(5)"
   ]
  },
  {
   "cell_type": "code",
   "execution_count": 25,
   "id": "592682b8",
   "metadata": {},
   "outputs": [
    {
     "name": "stdout",
     "output_type": "stream",
     "text": [
      "+----+--------+--------------+------------+--------------------+--------------------+--------------------+\n",
      "|Year|    Date|          Unit|    Province|            Vehicle1|      Presumed_Cause|       Accident_Type|\n",
      "+----+--------+--------------+------------+--------------------+--------------------+--------------------+\n",
      "|2021|1/1/2021|    กรมทางหลวง|    ร้อยเอ็ด|รถปิคอัพบรรทุก 4 ล้อ|ขับรถเร็วเกินอัตร...|พลิกคว่ำ/ตกถนนในท...|\n",
      "|2021|1/1/2021|กรมทางหลวงชนบท|      สกลนคร|       รถจักรยานยนต์|             เมาสุรา|                null|\n",
      "|2021|1/1/2021|กรมทางหลวงชนบท|    มุกดาหาร|       รถจักรยานยนต์|             เมาสุรา|                null|\n",
      "|2021|1/1/2021|    กรมทางหลวง|สุราษฎร์ธานี|รถยนต์นั่งส่วนบุค...|ขับรถเร็วเกินอัตร...|              ชนท้าย|\n",
      "|2021|1/1/2021|    กรมทางหลวง|    พิษณุโลก|       รถจักรยานยนต์|ขับรถเร็วเกินอัตร...|พลิกคว่ำ/ตกถนนในท...|\n",
      "+----+--------+--------------+------------+--------------------+--------------------+--------------------+\n",
      "only showing top 5 rows\n",
      "\n"
     ]
    }
   ],
   "source": [
    "# ข้อมูลปี 2021\n",
    "spark.sql('SELECT Year,Date,Unit, Province, Vehicle1 ,Presumed_Cause, Accident_Type \\\n",
    "          FROM logs \\\n",
    "          WHERE Year = 2021').show(5)"
   ]
  },
  {
   "cell_type": "markdown",
   "id": "435b0d89",
   "metadata": {},
   "source": [
    "## Clean จังหวัด\n",
    "\n",
    "#### โหลดข้อมูลจังหวัดและอำเภอ"
   ]
  },
  {
   "cell_type": "code",
   "execution_count": 26,
   "id": "429d15d3",
   "metadata": {},
   "outputs": [],
   "source": [
    "#ข้อมูลจังหวัด\n",
    "province = spark.read.csv(\n",
    "    os.path.join(DIRECTORY, \"province.CSV\"),\n",
    "    header = True,\n",
    "    inferSchema = True,\n",
    "    encoding=\"UTF-8\"\n",
    ")"
   ]
  },
  {
   "cell_type": "code",
   "execution_count": 27,
   "id": "5ebd30bd",
   "metadata": {},
   "outputs": [
    {
     "name": "stdout",
     "output_type": "stream",
     "text": [
      "+-----------+---------------+----+----+\n",
      "|Province_ID|       Province| _c2| _c3|\n",
      "+-----------+---------------+----+----+\n",
      "|         10|  กรุงเทพมหานคร|null|null|\n",
      "|         11|    สมุทรปราการ|null|null|\n",
      "|         12|        นนทบุรี|null|null|\n",
      "|         13|       ปทุมธานี|null|    |\n",
      "|         14|พระนครศรีอยุธยา|null|null|\n",
      "|         15|        อ่างทอง|null|null|\n",
      "|         16|         ลพบุรี|null|null|\n",
      "|         17|      สิงห์บุรี|null|null|\n",
      "|         18|         ชัยนาท|null|null|\n",
      "|         19|        สระบุรี|null|null|\n",
      "|         20|         ชลบุรี|null|null|\n",
      "|         21|          ระยอง|null|null|\n",
      "|         22|       จันทบุรี|null|null|\n",
      "|         23|           ตราด|null|null|\n",
      "|         24|     ฉะเชิงเทรา|null|null|\n",
      "|         25|     ปราจีนบุรี|null|null|\n",
      "|         26|        นครนายก|null|null|\n",
      "|         27|        สระแก้ว|null|null|\n",
      "|         30|     นครราชสีมา|null|null|\n",
      "|         31|      บุรีรัมย์|null|null|\n",
      "+-----------+---------------+----+----+\n",
      "only showing top 20 rows\n",
      "\n"
     ]
    }
   ],
   "source": [
    "province.show()"
   ]
  },
  {
   "cell_type": "code",
   "execution_count": 48,
   "id": "deb9da72",
   "metadata": {},
   "outputs": [
    {
     "name": "stdout",
     "output_type": "stream",
     "text": [
      "+-----------+---------------+\n",
      "|Province_ID|       Province|\n",
      "+-----------+---------------+\n",
      "|         10|  กรุงเทพมหานคร|\n",
      "|         11|    สมุทรปราการ|\n",
      "|         12|        นนทบุรี|\n",
      "|         13|       ปทุมธานี|\n",
      "|         14|พระนครศรีอยุธยา|\n",
      "|         15|        อ่างทอง|\n",
      "|         16|         ลพบุรี|\n",
      "|         17|      สิงห์บุรี|\n",
      "|         18|         ชัยนาท|\n",
      "|         19|        สระบุรี|\n",
      "|         20|         ชลบุรี|\n",
      "|         21|          ระยอง|\n",
      "|         22|       จันทบุรี|\n",
      "|         23|           ตราด|\n",
      "|         24|     ฉะเชิงเทรา|\n",
      "|         25|     ปราจีนบุรี|\n",
      "|         26|        นครนายก|\n",
      "|         27|        สระแก้ว|\n",
      "|         30|     นครราชสีมา|\n",
      "|         31|      บุรีรัมย์|\n",
      "+-----------+---------------+\n",
      "only showing top 20 rows\n",
      "\n"
     ]
    }
   ],
   "source": [
    "province = province.drop(\"_c2\",\"_c3\")\n",
    "province.show()"
   ]
  },
  {
   "cell_type": "code",
   "execution_count": 29,
   "id": "fd164a99",
   "metadata": {},
   "outputs": [],
   "source": [
    "#ข้อมูลอำเภอ\n",
    "district = spark.read.csv(\n",
    "    os.path.join(DIRECTORY, \"District.CSV\"),\n",
    "    header = True,\n",
    "    inferSchema = True,\n",
    "    encoding=\"UTF-8\"\n",
    ")"
   ]
  },
  {
   "cell_type": "code",
   "execution_count": 30,
   "id": "87062cc9",
   "metadata": {},
   "outputs": [
    {
     "name": "stdout",
     "output_type": "stream",
     "text": [
      "+-----------------+-------------+\n",
      "|DistrictThaiShort| ProvinceThai|\n",
      "+-----------------+-------------+\n",
      "|           พระนคร|กรุงเทพมหานคร|\n",
      "|           พระนคร|กรุงเทพมหานคร|\n",
      "|           พระนคร|กรุงเทพมหานคร|\n",
      "|           พระนคร|กรุงเทพมหานคร|\n",
      "|           พระนคร|กรุงเทพมหานคร|\n",
      "|           พระนคร|กรุงเทพมหานคร|\n",
      "|           พระนคร|กรุงเทพมหานคร|\n",
      "|           พระนคร|กรุงเทพมหานคร|\n",
      "|           พระนคร|กรุงเทพมหานคร|\n",
      "|           พระนคร|กรุงเทพมหานคร|\n",
      "|           พระนคร|กรุงเทพมหานคร|\n",
      "|           พระนคร|กรุงเทพมหานคร|\n",
      "|            ดุสิต|กรุงเทพมหานคร|\n",
      "|            ดุสิต|กรุงเทพมหานคร|\n",
      "|            ดุสิต|กรุงเทพมหานคร|\n",
      "|            ดุสิต|กรุงเทพมหานคร|\n",
      "|            ดุสิต|กรุงเทพมหานคร|\n",
      "|          หนองจอก|กรุงเทพมหานคร|\n",
      "|          หนองจอก|กรุงเทพมหานคร|\n",
      "|          หนองจอก|กรุงเทพมหานคร|\n",
      "+-----------------+-------------+\n",
      "only showing top 20 rows\n",
      "\n"
     ]
    }
   ],
   "source": [
    "district.show()"
   ]
  },
  {
   "cell_type": "code",
   "execution_count": 32,
   "id": "62213901",
   "metadata": {},
   "outputs": [],
   "source": [
    "district = district.select(\"DistrictThaiShort\", \"ProvinceThai\").distinct()"
   ]
  },
  {
   "cell_type": "code",
   "execution_count": 33,
   "id": "27f25de3",
   "metadata": {},
   "outputs": [],
   "source": [
    "district = district.orderBy(\"ProvinceThai\")"
   ]
  },
  {
   "cell_type": "code",
   "execution_count": 34,
   "id": "3fa52ac7",
   "metadata": {},
   "outputs": [
    {
     "name": "stdout",
     "output_type": "stream",
     "text": [
      "+-----------------+-------------+\n",
      "|DistrictThaiShort|ProvinceThai |\n",
      "+-----------------+-------------+\n",
      "|เมืองกระบี่      |กระบี่       |\n",
      "|เขาพนม           |กระบี่       |\n",
      "|ลำทับ            |กระบี่       |\n",
      "|เหนือคลอง        |กระบี่       |\n",
      "|คลองท่อม         |กระบี่       |\n",
      "|อ่าวลึก          |กระบี่       |\n",
      "|ปลายพระยา        |กระบี่       |\n",
      "|เกาะลันตา        |กระบี่       |\n",
      "|สาทร             |กรุงเทพมหานคร|\n",
      "|ตลิ่งชัน         |กรุงเทพมหานคร|\n",
      "|สายไหม           |กรุงเทพมหานคร|\n",
      "|ดินแดง           |กรุงเทพมหานคร|\n",
      "|พระนคร           |กรุงเทพมหานคร|\n",
      "|บางกอกน้อย       |กรุงเทพมหานคร|\n",
      "|บางขุนเทียน      |กรุงเทพมหานคร|\n",
      "|บางนา            |กรุงเทพมหานคร|\n",
      "|คลองสาน          |กรุงเทพมหานคร|\n",
      "|จตุจักร          |กรุงเทพมหานคร|\n",
      "|สะพานสูง         |กรุงเทพมหานคร|\n",
      "|บางกะปิ          |กรุงเทพมหานคร|\n",
      "+-----------------+-------------+\n",
      "only showing top 20 rows\n",
      "\n"
     ]
    }
   ],
   "source": [
    "district.show(20,False)"
   ]
  },
  {
   "cell_type": "code",
   "execution_count": 35,
   "id": "587953f8",
   "metadata": {},
   "outputs": [],
   "source": [
    "district.createOrReplaceTempView(\"district\")\n",
    "\n",
    "district = spark.sql('''\n",
    "    SELECT DISTINCT districtThaiShort, ProvinceThai\n",
    "    FROM district\n",
    "    ORDER BY ProvinceThai ASC\n",
    "''')"
   ]
  },
  {
   "cell_type": "code",
   "execution_count": 36,
   "id": "bd2ff802",
   "metadata": {},
   "outputs": [
    {
     "name": "stdout",
     "output_type": "stream",
     "text": [
      "+-----------------+-------------+\n",
      "|DistrictThaiShort|ProvinceThai |\n",
      "+-----------------+-------------+\n",
      "|เมืองกระบี่      |กระบี่       |\n",
      "|เขาพนม           |กระบี่       |\n",
      "|ลำทับ            |กระบี่       |\n",
      "|เหนือคลอง        |กระบี่       |\n",
      "|คลองท่อม         |กระบี่       |\n",
      "|อ่าวลึก          |กระบี่       |\n",
      "|ปลายพระยา        |กระบี่       |\n",
      "|เกาะลันตา        |กระบี่       |\n",
      "|สาทร             |กรุงเทพมหานคร|\n",
      "|ตลิ่งชัน         |กรุงเทพมหานคร|\n",
      "|สายไหม           |กรุงเทพมหานคร|\n",
      "|ดินแดง           |กรุงเทพมหานคร|\n",
      "|พระนคร           |กรุงเทพมหานคร|\n",
      "|บางกอกน้อย       |กรุงเทพมหานคร|\n",
      "|บางขุนเทียน      |กรุงเทพมหานคร|\n",
      "|บางนา            |กรุงเทพมหานคร|\n",
      "|คลองสาน          |กรุงเทพมหานคร|\n",
      "|จตุจักร          |กรุงเทพมหานคร|\n",
      "|สะพานสูง         |กรุงเทพมหานคร|\n",
      "|บางกะปิ          |กรุงเทพมหานคร|\n",
      "+-----------------+-------------+\n",
      "only showing top 20 rows\n",
      "\n"
     ]
    }
   ],
   "source": [
    "spark.sql('SELECT * FROM district').show(20, False)"
   ]
  },
  {
   "cell_type": "code",
   "execution_count": 37,
   "id": "75da03c8",
   "metadata": {},
   "outputs": [],
   "source": [
    "district.createOrReplaceTempView(\"district\")\n",
    "\n",
    "district = district.withColumnRenamed(\"DistrictThaiShort\", \"District\") \\\n",
    "                   .withColumnRenamed(\"ProvinceThai\", \"Province\")"
   ]
  },
  {
   "cell_type": "code",
   "execution_count": 38,
   "id": "c76f2358",
   "metadata": {},
   "outputs": [
    {
     "name": "stdout",
     "output_type": "stream",
     "text": [
      "+-----------------+-------------+\n",
      "|districtThaiShort|ProvinceThai |\n",
      "+-----------------+-------------+\n",
      "|เมืองกระบี่      |กระบี่       |\n",
      "|เขาพนม           |กระบี่       |\n",
      "|ลำทับ            |กระบี่       |\n",
      "|เหนือคลอง        |กระบี่       |\n",
      "|คลองท่อม         |กระบี่       |\n",
      "|อ่าวลึก          |กระบี่       |\n",
      "|ปลายพระยา        |กระบี่       |\n",
      "|เกาะลันตา        |กระบี่       |\n",
      "|สาทร             |กรุงเทพมหานคร|\n",
      "|ตลิ่งชัน         |กรุงเทพมหานคร|\n",
      "|สายไหม           |กรุงเทพมหานคร|\n",
      "|ดินแดง           |กรุงเทพมหานคร|\n",
      "|พระนคร           |กรุงเทพมหานคร|\n",
      "|บางกอกน้อย       |กรุงเทพมหานคร|\n",
      "|บางขุนเทียน      |กรุงเทพมหานคร|\n",
      "|บางนา            |กรุงเทพมหานคร|\n",
      "|คลองสาน          |กรุงเทพมหานคร|\n",
      "|จตุจักร          |กรุงเทพมหานคร|\n",
      "|สะพานสูง         |กรุงเทพมหานคร|\n",
      "|บางกะปิ          |กรุงเทพมหานคร|\n",
      "+-----------------+-------------+\n",
      "only showing top 20 rows\n",
      "\n"
     ]
    }
   ],
   "source": [
    "spark.sql('SELECT * FROM district').show(20, False)"
   ]
  },
  {
   "cell_type": "code",
   "execution_count": 47,
   "id": "66a929c8",
   "metadata": {},
   "outputs": [
    {
     "name": "stdout",
     "output_type": "stream",
     "text": [
      "+----+----+--------+\n",
      "|Unit|Road|Province|\n",
      "+----+----+--------+\n",
      "+----+----+--------+\n",
      "\n"
     ]
    }
   ],
   "source": [
    "# คัดหาจังหวัดที่ Format ไม่ถูกต้อง\n",
    "province.createOrReplaceTempView(\"province\")\n",
    "\n",
    "spark.sql('SELECT l.Unit,l.Road,l.Province \\\n",
    "        FROM logs as l \\\n",
    "        WHERE l.Province NOT IN (SELECT Province FROM province) \\\n",
    "        ORDER BY l.province \\\n",
    "').show()"
   ]
  },
  {
   "cell_type": "code",
   "execution_count": 41,
   "id": "7d475ada",
   "metadata": {},
   "outputs": [
    {
     "name": "stdout",
     "output_type": "stream",
     "text": [
      "+--------+\n",
      "|count(1)|\n",
      "+--------+\n",
      "|      21|\n",
      "+--------+\n",
      "\n"
     ]
    }
   ],
   "source": [
    "# หาจำนวน null จังหวัดของข้อมูลทั้งหมด\n",
    "spark.sql('SELECT COUNT(*)\\\n",
    "          FROM logs \\\n",
    "          WHERE Province is null' \\\n",
    "          ).show()"
   ]
  },
  {
   "cell_type": "code",
   "execution_count": 50,
   "id": "694b7cd4",
   "metadata": {},
   "outputs": [
    {
     "name": "stdout",
     "output_type": "stream",
     "text": [
      "+---------------------------------------------------------------------------------------------+--------+\n",
      "|Road                                                                                         |Province|\n",
      "+---------------------------------------------------------------------------------------------+--------+\n",
      "|ตาฮะ -  ลำพังชู                                                                              |null    |\n",
      "|ต่างระดับบางปะอิน - หนองแค                                                                   |null    |\n",
      "|อ้อมน้อย - สมุทรสาคร                                                                         |null    |\n",
      "|บ้านย่อ - บ้านสวน                                                                            |null    |\n",
      "|แยกทางหลวงหมายเลข 404 (กม.ที่ 10+325) - บ้านต้นปรง                                           |null    |\n",
      "|ตะกั่วป่า - บางสัก                                                                           |null    |\n",
      "|ปากน้ำ - โรงพยาบาลสรรคบุรี                                                                   |null    |\n",
      "|บ้านทุ่ม - มัญจาคีรี                                                                         |null    |\n",
      "|null                                                                                         |null    |\n",
      "|null                                                                                         |null    |\n",
      "|null                                                                                         |null    |\n",
      "|null                                                                                         |null    |\n",
      "|แยกทางหลวงหมายเลข 3183 (กม.ที่ 18+350) - แยกทางหลวงหมายเลข 340 (กม.ที่ 152+068) (ช่วงจังหวัด)|null    |\n",
      "|หน้าพระลาน - บ้านครัว                                                                        |null    |\n",
      "|ต่างระดับคลองหลวง - ประตูน้ำพระอินทร์                                                        |null    |\n",
      "|ปากท่อ - สระพัง                                                                              |null    |\n",
      "|ท่าทอง - สวนสมบูรณ์                                                                          |null    |\n",
      "|หนองข้างคอก - ตะเคียนเตี้ย                                                                   |null    |\n",
      "|เขาหินซ้อน - ลาดตะเคียน                                                                      |null    |\n",
      "|แยกทางหลวงหมายเลข 3067 (กม.ที่ 1+000) - บ้านคลองน้ำใส                                        |null    |\n",
      "|ทางแยกต่างระดับอยุธยา - อยุธยา                                                               |null    |\n",
      "+---------------------------------------------------------------------------------------------+--------+\n",
      "\n"
     ]
    }
   ],
   "source": [
    "# หาแถวที่ไม่มีจังหวัด\n",
    "spark.sql('''\n",
    "    SELECT Road,Province\n",
    "    FROM logs\n",
    "    WHERE Province is null\n",
    "''').show(21,False)\n"
   ]
  },
  {
   "cell_type": "code",
   "execution_count": 53,
   "id": "b76bd672",
   "metadata": {},
   "outputs": [
    {
     "name": "stdout",
     "output_type": "stream",
     "text": [
      "+--------+--------+\n",
      "|District|Province|\n",
      "+--------+--------+\n",
      "|  หนองแค| สระบุรี|\n",
      "+--------+--------+\n",
      "\n",
      "+--------+--------+\n",
      "|District|Province|\n",
      "+--------+--------+\n",
      "+--------+--------+\n",
      "\n",
      "+--------+--------+\n",
      "|District|Province|\n",
      "+--------+--------+\n",
      "+--------+--------+\n",
      "\n",
      "+---------+--------+\n",
      "| District|Province|\n",
      "+---------+--------+\n",
      "|ตะกั่วป่า|   พังงา|\n",
      "+---------+--------+\n",
      "\n",
      "+--------+--------+\n",
      "|District|Province|\n",
      "+--------+--------+\n",
      "|สรรคบุรี|  ชัยนาท|\n",
      "+--------+--------+\n",
      "\n",
      "+---------+--------+\n",
      "| District|Province|\n",
      "+---------+--------+\n",
      "|มัญจาคีรี| ขอนแก่น|\n",
      "+---------+--------+\n",
      "\n",
      "+--------+--------+\n",
      "|District|Province|\n",
      "+--------+--------+\n",
      "+--------+--------+\n",
      "\n",
      "+--------+--------+\n",
      "|District|Province|\n",
      "+--------+--------+\n",
      "+--------+--------+\n",
      "\n",
      "+--------+--------+\n",
      "|District|Province|\n",
      "+--------+--------+\n",
      "|  ปากท่อ| ราชบุรี|\n",
      "+--------+--------+\n",
      "\n",
      "+--------+--------+\n",
      "|District|Province|\n",
      "+--------+--------+\n",
      "+--------+--------+\n",
      "\n",
      "+--------+--------+\n",
      "|District|Province|\n",
      "+--------+--------+\n",
      "+--------+--------+\n",
      "\n",
      "+--------+--------+\n",
      "|District|Province|\n",
      "+--------+--------+\n",
      "+--------+--------+\n",
      "\n",
      "+--------+--------+\n",
      "|District|Province|\n",
      "+--------+--------+\n",
      "+--------+--------+\n",
      "\n"
     ]
    }
   ],
   "source": [
    "district.createOrReplaceTempView(\"district\")\n",
    "\n",
    "spark.sql('''\n",
    "    SELECT *\n",
    "    FROM district\n",
    "    WHERE District like 'หนองแค'\n",
    "''').show()\n",
    "\n",
    "spark.sql('''\n",
    "    SELECT *\n",
    "    FROM district\n",
    "    WHERE District = 'บ้านย่อ' or District = 'บ้านสวน'   \n",
    "''').show()\n",
    "\n",
    "spark.sql('''\n",
    "    SELECT *\n",
    "    FROM district\n",
    "    WHERE District like 'บ้านต้นปรง'\n",
    "''').show()\n",
    "\n",
    "spark.sql('''\n",
    "    SELECT *\n",
    "    FROM district\n",
    "    WHERE District = 'ตะกั่วป่า' or District = 'บางสัก'   \n",
    "''').show()\n",
    "\n",
    "spark.sql('''\n",
    "    SELECT *\n",
    "    FROM district\n",
    "    WHERE District = 'ปากน้ำ' or District = 'สรรคบุรี'   \n",
    "''').show()\n",
    "\n",
    "spark.sql('''\n",
    "    SELECT *\n",
    "    FROM district\n",
    "    WHERE District = 'บ้านทุ่ม' or District = 'มัญจาคีรี'   \n",
    "''').show()\n",
    "\n",
    "spark.sql('''\n",
    "    SELECT *\n",
    "    FROM district\n",
    "    WHERE District = 'หน้าพระลาน' or District = 'บ้านครัว'   \n",
    "''').show()\n",
    "\n",
    "spark.sql('''\n",
    "    SELECT *\n",
    "    FROM district\n",
    "    WHERE District = 'ต่างระดับคลองหลวง' or District = 'ประตูน้ำพระอินทร์' \n",
    "''').show()\n",
    "\n",
    "spark.sql('''\n",
    "    SELECT *\n",
    "    FROM district\n",
    "    WHERE District = 'ปากท่อ' or District = 'สระพัง' \n",
    "''').show()\n",
    "\n",
    "spark.sql('''\n",
    "    SELECT *\n",
    "    FROM district\n",
    "    WHERE District = 'ท่าทอง' or District = 'สวนสมบูรณ์' \n",
    "''').show()\n",
    "\n",
    "spark.sql('''\n",
    "    SELECT *\n",
    "    FROM district\n",
    "    WHERE District = 'หนองข้างคอก' or District = 'ตะเคียนเตี้ย' \n",
    "''').show()\n",
    "\n",
    "spark.sql('''\n",
    "    SELECT *\n",
    "    FROM district\n",
    "    WHERE District = 'เขาหินซ้อน' or District = 'ลาดตะเคียน' \n",
    "''').show()\n",
    "\n",
    "spark.sql('''\n",
    "    SELECT *\n",
    "    FROM district\n",
    "    WHERE District like 'คลองน้ำใส' \n",
    "''').show()"
   ]
  },
  {
   "cell_type": "code",
   "execution_count": 54,
   "id": "2d1f77ce",
   "metadata": {},
   "outputs": [],
   "source": [
    "logs = logs.withColumn(\"Province\", \n",
    "                      when(logs.Road == \"ต่างระดับบางปะอิน - หนองแค\", \"สระบุรี\")\n",
    "                      .when(logs.Road == \"อ้อมน้อย - สมุทรสาคร\", \"สมุทรสาคร\")\n",
    "                      .when(logs.Road == \"ตะกั่วป่า - บางสัก\", \"พังงา\")\n",
    "                      .when(logs.Road == \"ปากน้ำ - โรงพยาบาลสรรคบุรี\", \"ชัยนาท\")\n",
    "                      .when(logs.Road == \"บ้านทุ่ม - มัญจาคีรี\", \"ขอนแก่น\")\n",
    "                      .when(logs.Road == \"ปากท่อ - สระพัง\", \"ราชบุรี\")\n",
    "                      .when(logs.Road == \"ทางแยกต่างระดับอยุธยา - อยุธยา\", \"อยุธยา\")\n",
    "                      .otherwise(logs.Province)\n",
    "                     )"
   ]
  },
  {
   "cell_type": "code",
   "execution_count": 55,
   "id": "649c6f0c",
   "metadata": {},
   "outputs": [
    {
     "name": "stdout",
     "output_type": "stream",
     "text": [
      "+---------------------------------------------------------------------------------------------+--------+\n",
      "|Road                                                                                         |Province|\n",
      "+---------------------------------------------------------------------------------------------+--------+\n",
      "|ตาฮะ -  ลำพังชู                                                                              |null    |\n",
      "|บ้านย่อ - บ้านสวน                                                                            |null    |\n",
      "|แยกทางหลวงหมายเลข 404 (กม.ที่ 10+325) - บ้านต้นปรง                                           |null    |\n",
      "|null                                                                                         |null    |\n",
      "|null                                                                                         |null    |\n",
      "|null                                                                                         |null    |\n",
      "|null                                                                                         |null    |\n",
      "|แยกทางหลวงหมายเลข 3183 (กม.ที่ 18+350) - แยกทางหลวงหมายเลข 340 (กม.ที่ 152+068) (ช่วงจังหวัด)|null    |\n",
      "|หน้าพระลาน - บ้านครัว                                                                        |null    |\n",
      "|ต่างระดับคลองหลวง - ประตูน้ำพระอินทร์                                                        |null    |\n",
      "|ท่าทอง - สวนสมบูรณ์                                                                          |null    |\n",
      "|หนองข้างคอก - ตะเคียนเตี้ย                                                                   |null    |\n",
      "|เขาหินซ้อน - ลาดตะเคียน                                                                      |null    |\n",
      "|แยกทางหลวงหมายเลข 3067 (กม.ที่ 1+000) - บ้านคลองน้ำใส                                        |null    |\n",
      "+---------------------------------------------------------------------------------------------+--------+\n",
      "\n"
     ]
    }
   ],
   "source": [
    "logs.createOrReplaceTempView(\"logs\")\n",
    "spark.sql('''\n",
    "    SELECT Road,Province\n",
    "    FROM logs\n",
    "    WHERE Province is null\n",
    "    ''').show(21,False)"
   ]
  },
  {
   "cell_type": "markdown",
   "id": "d3cc22fb",
   "metadata": {},
   "source": [
    "### วิเคราะห์อุบัติเหตุในประเทศไทย"
   ]
  },
  {
   "cell_type": "markdown",
   "id": "e4ce0acb",
   "metadata": {},
   "source": [
    "#### หา null จากละติดจูด หรือสาเหตุ"
   ]
  },
  {
   "cell_type": "code",
   "execution_count": 87,
   "id": "fcc4362a",
   "metadata": {},
   "outputs": [
    {
     "name": "stdout",
     "output_type": "stream",
     "text": [
      "+--------------------------------+----------------------+\n",
      "|Presumed_Cause                  |จำนวนการเกิดอุบัติเหตุ|\n",
      "+--------------------------------+----------------------+\n",
      "|ขับรถเร็วเกินอัตรากำหนด         |35723                 |\n",
      "|คน/รถ/สัตว์ตัดหน้ากระชั้นชิด    |3846                  |\n",
      "|หลับใน                          |2848                  |\n",
      "|null                            |1603                  |\n",
      "|อุปกรณ์ยานพาหนะบกพร่อง          |1385                  |\n",
      "|เมาสุรา                         |791                   |\n",
      "|ฝ่าฝืนสัญญาณไฟ/เครื่องหมายจราจร |553                   |\n",
      "|ไม่คุ้นเคยเส้นทาง/ขับรถไม่ชำนาญ |396                   |\n",
      "|ยางเสื่อมสภาพ/ยางแตก            |324                   |\n",
      "|แซงรถอย่างผิดกฎหมาย             |226                   |\n",
      "|มีกองวัสดุ/สิ่งกีดขวาง          |208                   |\n",
      "|ถนนลื่น                         |157                   |\n",
      "|สูญเสียการควบคุม                |138                   |\n",
      "|บรรทุกเกินอัตรา                 |134                   |\n",
      "|ไม่ให้สัญญาณชะลอ/เลี้ยว         |131                   |\n",
      "|ขับรถย้อนศร                     |107                   |\n",
      "|อื่นๆ                           |95                    |\n",
      "|ระบบห้ามล้อขัดข้อง/ระบบเบรกชำรุด|90                    |\n",
      "|ขับรถตามกระชั้นชิด              |88                    |\n",
      "|เปลี่ยนช่องทางกะทันหัน          |84                    |\n",
      "+--------------------------------+----------------------+\n",
      "only showing top 20 rows\n",
      "\n"
     ]
    }
   ],
   "source": [
    "# สาเหตุหลักของอุบัติเหตุ\n",
    "spark.sql('''\n",
    "          SELECT Presumed_Cause, COUNT(*) as `จำนวนการเกิดอุบัติเหตุ` \n",
    "           FROM logs \n",
    "           GROUP BY Presumed_Cause\n",
    "           ORDER BY `จำนวนการเกิดอุบัติเหตุ` desc\n",
    "           \n",
    "         ''').show(20,False)"
   ]
  },
  {
   "cell_type": "code",
   "execution_count": 86,
   "id": "5e603ca4",
   "metadata": {},
   "outputs": [
    {
     "name": "stdout",
     "output_type": "stream",
     "text": [
      "+-----------------------------------+----------------------+\n",
      "|Accident_Type                      |จำนวนการเกิดอุบัติเหตุ|\n",
      "+-----------------------------------+----------------------+\n",
      "|พลิกคว่ำ/ตกถนนในทางตรง             |20102                 |\n",
      "|ชนท้าย                             |14687                 |\n",
      "|พลิกคว่ำ/ตกถนนในทางโค้ง            |5569                  |\n",
      "|null                               |3002                  |\n",
      "|ชนในทิศทางตรงกันข้าม (ไม่ใช่การแซง)|2153                  |\n",
      "|ชนสิ่งกีดขวาง (บนผิวจราจร)         |1830                  |\n",
      "|อื่นๆ                              |927                   |\n",
      "|ชนคนเดินเท้า                       |493                   |\n",
      "|ชนเป็นมุมบริเวณทางแยก              |432                   |\n",
      "|ชนด้านข้าง                         |306                   |\n",
      "+-----------------------------------+----------------------+\n",
      "only showing top 10 rows\n",
      "\n"
     ]
    }
   ],
   "source": [
    "# ประเภทการเกิดอุบัติเหตุ\n",
    "spark.sql('''\n",
    "          SELECT Accident_Type, COUNT(*) as `จำนวนการเกิดอุบัติเหตุ` \n",
    "           FROM logs \n",
    "           GROUP BY Accident_Type\n",
    "           ORDER BY `จำนวนการเกิดอุบัติเหตุ` desc\n",
    "           \n",
    "         ''').show(10,False)"
   ]
  },
  {
   "cell_type": "code",
   "execution_count": 68,
   "id": "1512a606",
   "metadata": {},
   "outputs": [
    {
     "name": "stdout",
     "output_type": "stream",
     "text": [
      "+---------------+----------------------+\n",
      "|       Province|จำนวนการเกิดอุบัติเหตุ|\n",
      "+---------------+----------------------+\n",
      "|  กรุงเทพมหานคร|                  4208|\n",
      "|         ชลบุรี|                  2559|\n",
      "|      เชียงใหม่|                  2123|\n",
      "|     นครราชสีมา|                  1936|\n",
      "|     สุพรรณบุรี|                  1645|\n",
      "|    สมุทรปราการ|                  1576|\n",
      "|       ปทุมธานี|                  1197|\n",
      "|   สุราษฎร์ธานี|                  1186|\n",
      "|            ตาก|                  1149|\n",
      "|           แพร่|                   964|\n",
      "|      เพชรบูรณ์|                   939|\n",
      "|  นครศรีธรรมราช|                   937|\n",
      "|     ฉะเชิงเทรา|                   930|\n",
      "|        สุโขทัย|                   834|\n",
      "|       จันทบุรี|                   817|\n",
      "|         อยุธยา|                   809|\n",
      "|      นครสวรรค์|                   770|\n",
      "|        สระบุรี|                   765|\n",
      "|ประจวบคีรีขันธ์|                   728|\n",
      "|      กาญจนบุรี|                   692|\n",
      "+---------------+----------------------+\n",
      "only showing top 20 rows\n",
      "\n"
     ]
    }
   ],
   "source": [
    "# จำนวนการเกิดอุบัติเหตุแยกตามจังหวัด\n",
    "spark.sql('''\n",
    "    SELECT Province, COUNT(*) AS `จำนวนการเกิดอุบัติเหตุ`\n",
    "    FROM logs\n",
    "    GROUP BY Province\n",
    "    ORDER BY `จำนวนการเกิดอุบัติเหตุ` DESC\n",
    "''').show()"
   ]
  },
  {
   "cell_type": "code",
   "execution_count": 71,
   "id": "ee75896d",
   "metadata": {},
   "outputs": [
    {
     "name": "stdout",
     "output_type": "stream",
     "text": [
      "+----------------------------------------+-------------+----------------------+\n",
      "|Road                                    |Province     |จำนวนการเกิดอุบัติเหตุ|\n",
      "+----------------------------------------+-------------+----------------------+\n",
      "|หนองข้างคอก - ตะเคียนเตี้ย              |ชลบุรี       |689                   |\n",
      "|บางปะอิน - แขวงรามอินทรา                |ปทุมธานี     |640                   |\n",
      "|แขวงคลองสองต้นนุ่น - พิมพา              |กรุงเทพมหานคร|540                   |\n",
      "|แขวงรามอินทรา - บางพลี                  |กรุงเทพมหานคร|498                   |\n",
      "|แขวงคลองสองต้นนุ่น - พิมพา              |สมุทรปราการ  |432                   |\n",
      "|พิมพา - หนองข้างคอก                     |ฉะเชิงเทรา   |358                   |\n",
      "|บางปะอิน - แขวงรามอินทรา                |กรุงเทพมหานคร|355                   |\n",
      "|พิมพา - หนองข้างคอก                     |ชลบุรี       |341                   |\n",
      "|อรุณอมรินทร์ - พุทธมณฑลสาย 4            |กรุงเทพมหานคร|334                   |\n",
      "|ถนนศรีนครินทร - แขวงคลองสองต้นนุ่น      |กรุงเทพมหานคร|307                   |\n",
      "|มวกเหล็ก - บ่อทอง                       |นครราชสีมา   |285                   |\n",
      "|ตะเคียนเตี้ย - พลา                      |ชลบุรี       |281                   |\n",
      "|แสมดำ - สะพานข้ามแม่น้ำท่าจีนฝั่งตะวันตก|สมุทรสาคร    |278                   |\n",
      "|สาลี - สุพรรณบุรี                       |สุพรรณบุรี   |272                   |\n",
      "|บางพลี-สุขสวัสดิ์                       |สมุทรปราการ  |253                   |\n",
      "|เชียงใหม่ - ขี้เหล็กหลวง                |เชียงใหม่    |247                   |\n",
      "|เชียงใหม่ - บ้านโป่ง                    |เชียงใหม่    |237                   |\n",
      "|สี่แยกกบินทร์บุรี - วังน้ำเขียว         |ปราจีนบุรี   |225                   |\n",
      "|null                                    |กรุงเทพมหานคร|198                   |\n",
      "|สะพานข้ามแม่น้ำท่าจีนฝั่งตะวันตก - นาโคก|สมุทรสาคร    |197                   |\n",
      "+----------------------------------------+-------------+----------------------+\n",
      "only showing top 20 rows\n",
      "\n"
     ]
    }
   ],
   "source": [
    "# จำนวนการเกิดอุบัติเหตุแยกตามถนน\n",
    "spark.sql('''\n",
    "    SELECT Road, Province,COUNT(*) AS `จำนวนการเกิดอุบัติเหตุ`\n",
    "    FROM logs\n",
    "    GROUP BY Road, Province\n",
    "    ORDER BY `จำนวนการเกิดอุบัติเหตุ` DESC\n",
    "''').show(20, False)"
   ]
  },
  {
   "cell_type": "code",
   "execution_count": 79,
   "id": "cc205d4c",
   "metadata": {},
   "outputs": [
    {
     "name": "stdout",
     "output_type": "stream",
     "text": [
      "+-----------------------------+----------------------+\n",
      "|Weather                      |จำนวนการเกิดอุบัติเหตุ|\n",
      "+-----------------------------+----------------------+\n",
      "|แจ่มใส                       |42796                 |\n",
      "|ฝนตก                         |6027                  |\n",
      "|มีหมอก/ควัน/ฝุ่น             |293                   |\n",
      "|null                         |161                   |\n",
      "|มืดครึ้ม                     |157                   |\n",
      "|อื่นๆ                        |49                    |\n",
      "|ภัยธรรมชาติ เช่น พายุ น้ำท่วม|28                    |\n",
      "+-----------------------------+----------------------+\n",
      "\n"
     ]
    }
   ],
   "source": [
    "# จำนวนการเกิดอุบัติเหตุแยกตามสภาพอากาศ\n",
    "spark.sql('''\n",
    "    SELECT Weather, COUNT(*) AS `จำนวนการเกิดอุบัติเหตุ`\n",
    "    FROM logs\n",
    "    GROUP BY Weather\n",
    "    ORDER BY `จำนวนการเกิดอุบัติเหตุ` DESC\n",
    "''').show(10,False)"
   ]
  },
  {
   "cell_type": "code",
   "execution_count": 83,
   "id": "dd0484de",
   "metadata": {},
   "outputs": [
    {
     "name": "stdout",
     "output_type": "stream",
     "text": [
      "+------------------+----------------------+\n",
      "|รวมจำนวนผู้บาดเจ็บ|จำนวนการเกิดอุบัติเหตุ|\n",
      "+------------------+----------------------+\n",
      "|0                 |25727                 |\n",
      "|1                 |16339                 |\n",
      "|2                 |4513                  |\n",
      "|3                 |1490                  |\n",
      "|4                 |634                   |\n",
      "|5                 |312                   |\n",
      "|6                 |152                   |\n",
      "|7                 |97                    |\n",
      "|8                 |64                    |\n",
      "|10                |32                    |\n",
      "+------------------+----------------------+\n",
      "only showing top 10 rows\n",
      "\n"
     ]
    }
   ],
   "source": [
    "# รวมผู้บาดเจ็บจากอุบัติเหตุ\n",
    "spark.sql('''\n",
    "    SELECT Total_of_Injuries as `รวมจำนวนผู้บาดเจ็บ`, COUNT(*) AS `จำนวนการเกิดอุบัติเหตุ`\n",
    "    FROM logs\n",
    "    GROUP BY Total_of_Injuries\n",
    "    ORDER BY `จำนวนการเกิดอุบัติเหตุ` DESC\n",
    "''').show(10,False)"
   ]
  },
  {
   "cell_type": "markdown",
   "id": "4a9efba0",
   "metadata": {},
   "source": [
    "### วิเคราะห์การเกิดอุบัติเหตุในจังหวัดพะเยา"
   ]
  },
  {
   "cell_type": "code",
   "execution_count": 56,
   "id": "96385538",
   "metadata": {},
   "outputs": [
    {
     "name": "stdout",
     "output_type": "stream",
     "text": [
      "+----+---------+--------------+--------+-------------------------------------+----------------------------+----------------------+--------+\n",
      "|Year|Date     |Unit          |Province|Vehicle1                             |Presumed_Cause              |Accident_Type         |count(1)|\n",
      "+----+---------+--------------+--------+-------------------------------------+----------------------------+----------------------+--------+\n",
      "|2023|4/1/2023 |กรมทางหลวง    |พะเยา   |รถปิคอัพบรรทุก 4 ล้อ                 |ขับรถเร็วเกินอัตรากำหนด     |พลิกคว่ำ/ตกถนนในทางตรง|1       |\n",
      "|2023|8/2/2023 |กรมทางหลวง    |พะเยา   |รถยนต์นั่งส่วนบุคคล/รถยนต์นั่งสาธารณะ|แสงสว่างไม่เพียงพอ          |พลิกคว่ำ/ตกถนนในทางตรง|1       |\n",
      "|2023|16/2/2023|กรมทางหลวง    |พะเยา   |รถยนต์นั่งส่วนบุคคล/รถยนต์นั่งสาธารณะ|คน/รถ/สัตว์ตัดหน้ากระชั้นชิด|พลิกคว่ำ/ตกถนนในทางตรง|1       |\n",
      "|2023|1/1/2023 |กรมทางหลวง    |พะเยา   |รถปิคอัพบรรทุก 4 ล้อ                 |ขับรถเร็วเกินอัตรากำหนด     |พลิกคว่ำ/ตกถนนในทางตรง|1       |\n",
      "|2023|1/1/2023 |กรมทางหลวงชนบท|พะเยา   |รถจักรยานยนต์                        |ขับรถเร็วเกินอัตรากำหนด     |null                  |1       |\n",
      "+----+---------+--------------+--------+-------------------------------------+----------------------------+----------------------+--------+\n",
      "only showing top 5 rows\n",
      "\n"
     ]
    }
   ],
   "source": [
    "spark.sql('SELECT Year,Date,Unit, Province, Vehicle1 ,Presumed_Cause, Accident_Type, COUNT(*) \\\n",
    "          FROM logs \\\n",
    "          WHERE Province = \"พะเยา\" \\\n",
    "          GROUP BY Year,Date,Unit, Province, Vehicle1 ,Presumed_Cause, Accident_Type').show(5,False) "
   ]
  },
  {
   "cell_type": "code",
   "execution_count": 57,
   "id": "a8876975",
   "metadata": {},
   "outputs": [
    {
     "name": "stdout",
     "output_type": "stream",
     "text": [
      "+--------+----------------------+\n",
      "|Province|จำนวนการเกิดอุบัติเหตุ|\n",
      "+--------+----------------------+\n",
      "|   พะเยา|                   320|\n",
      "+--------+----------------------+\n",
      "\n"
     ]
    }
   ],
   "source": [
    "# จำนวนการเกิดอุบัติเหตุ\n",
    "spark.sql('''\n",
    "          SELECT Province, COUNT(*) as `จำนวนการเกิดอุบัติเหตุ` \n",
    "           FROM logs \n",
    "           WHERE Province = \"พะเยา\" \n",
    "           GROUP BY Province\n",
    "         ''').show()"
   ]
  },
  {
   "cell_type": "code",
   "execution_count": 84,
   "id": "6523c084",
   "metadata": {},
   "outputs": [
    {
     "name": "stdout",
     "output_type": "stream",
     "text": [
      "+-----------------------------------------------+--------+----------------------+\n",
      "|Road                                           |Province|จำนวนการเกิดอุบัติเหตุ|\n",
      "+-----------------------------------------------+--------+----------------------+\n",
      "|แยกประตูชัย - พาน                              |พะเยา   |43                    |\n",
      "|แม่กา - แยกประตูชัย                            |พะเยา   |43                    |\n",
      "|แม่ต๋ำ - บ้านใหม่                              |พะเยา   |29                    |\n",
      "|พะเยา - สันต้นแหน                              |พะเยา   |24                    |\n",
      "|null                                           |พะเยา   |18                    |\n",
      "|บ้านใหม่ - น้ำแวน                              |พะเยา   |17                    |\n",
      "|แม่ต๋ำ - แม่ใจ                                 |พะเยา   |13                    |\n",
      "|สบทุ - บ้านหย่วน                               |พะเยา   |13                    |\n",
      "|ห้วยคอกหมู - ป่าแดง                            |พะเยา   |12                    |\n",
      "|พะเยา - ปากบอก                                 |พะเยา   |10                    |\n",
      "|ป่าแดง - ปงสนุก                                |พะเยา   |8                     |\n",
      "|น้ำแวน - สะแล่ง                                |พะเยา   |8                     |\n",
      "|ฝายกวาง - ดอนเงิน                              |พะเยา   |8                     |\n",
      "|ปง - ปัวดอย                                    |พะเยา   |7                     |\n",
      "|จุน - ห้วยคอกหมู                               |พะเยา   |7                     |\n",
      "|สบบง - ขุนห้วยไคร้                             |พะเยา   |7                     |\n",
      "|แยกทางหลวงหมายเลข 1021 (กม.ที่ 1+000) - บ้านปาง|พะเยา   |7                     |\n",
      "|ทุ่งบานเย็น - ผาแดงบน                          |พะเยา   |4                     |\n",
      "|ปงสนุก - น่าน                                  |พะเยา   |4                     |\n",
      "|สะเกิน - สบทุ                                  |พะเยา   |3                     |\n",
      "+-----------------------------------------------+--------+----------------------+\n",
      "only showing top 20 rows\n",
      "\n"
     ]
    }
   ],
   "source": [
    "# จำนวนการเกิดอุบัติเหตุแยกตามถนน\n",
    "spark.sql('''\n",
    "    SELECT Road, Province,COUNT(*) AS `จำนวนการเกิดอุบัติเหตุ`\n",
    "    FROM logs\n",
    "    WHERE Province = 'พะเยา'\n",
    "    GROUP BY Road, Province\n",
    "    ORDER BY `จำนวนการเกิดอุบัติเหตุ` DESC\n",
    "''').show(20, False)"
   ]
  },
  {
   "cell_type": "code",
   "execution_count": 88,
   "id": "6672a086",
   "metadata": {},
   "outputs": [
    {
     "name": "stdout",
     "output_type": "stream",
     "text": [
      "+--------------------------------------------+----------------------+\n",
      "|Presumed_Cause                              |จำนวนการเกิดอุบัติเหตุ|\n",
      "+--------------------------------------------+----------------------+\n",
      "|ขับรถเร็วเกินอัตรากำหนด                     |210                   |\n",
      "|คน/รถ/สัตว์ตัดหน้ากระชั้นชิด                |37                    |\n",
      "|หลับใน                                      |28                    |\n",
      "|เมาสุรา                                     |20                    |\n",
      "|แซงรถอย่างผิดกฎหมาย                         |5                     |\n",
      "|ไม่คุ้นเคยเส้นทาง/ขับรถไม่ชำนาญ             |4                     |\n",
      "|แสงสว่างไม่เพียงพอ                          |3                     |\n",
      "|ฝ่าฝืนสัญญาณไฟ/เครื่องหมายจราจร             |3                     |\n",
      "|อุปกรณ์ยานพาหนะบกพร่อง                      |3                     |\n",
      "|ขับรถย้อนศร                                 |1                     |\n",
      "|โรคประจำตัว                                 |1                     |\n",
      "|ไม่ให้สัญญาณชะลอ/เลี้ยว                     |1                     |\n",
      "|มีกองวัสดุ/สิ่งกีดขวาง                      |1                     |\n",
      "|ขับรถผิดช่องทาง                             |1                     |\n",
      "|ทางโค้งอันตราย                              |1                     |\n",
      "|รถเสียไม่แสดงเครื่องหมายหรือสัญญาณไฟที่กำหนด|1                     |\n",
      "+--------------------------------------------+----------------------+\n",
      "\n"
     ]
    }
   ],
   "source": [
    "# สาเหตุหลักของอุบัติเหตุ\n",
    "spark.sql('''\n",
    "          SELECT Presumed_Cause, COUNT(*) as `จำนวนการเกิดอุบัติเหตุ` \n",
    "           FROM logs \n",
    "           WHERE Province = 'พะเยา'\n",
    "           GROUP BY Presumed_Cause\n",
    "           ORDER BY `จำนวนการเกิดอุบัติเหตุ` desc\n",
    "           \n",
    "         ''').show(20,False)"
   ]
  },
  {
   "cell_type": "code",
   "execution_count": 90,
   "id": "1e82480f",
   "metadata": {},
   "outputs": [
    {
     "name": "stdout",
     "output_type": "stream",
     "text": [
      "+-----------------------------------+----------------------+\n",
      "|Accident_Type                      |จำนวนการเกิดอุบัติเหตุ|\n",
      "+-----------------------------------+----------------------+\n",
      "|พลิกคว่ำ/ตกถนนในทางตรง             |117                   |\n",
      "|ชนท้าย                             |64                    |\n",
      "|พลิกคว่ำ/ตกถนนในทางโค้ง            |62                    |\n",
      "|null                               |32                    |\n",
      "|ชนในทิศทางตรงกันข้าม (ไม่ใช่การแซง)|25                    |\n",
      "|ชนสิ่งกีดขวาง (บนผิวจราจร)         |8                     |\n",
      "|ชนคนเดินเท้า                       |6                     |\n",
      "|ชนเป็นมุมบริเวณทางแยก              |3                     |\n",
      "|อื่นๆ                              |3                     |\n",
      "+-----------------------------------+----------------------+\n",
      "\n"
     ]
    }
   ],
   "source": [
    "# ประเภทของอุบัติเหตุ\n",
    "spark.sql('''\n",
    "          SELECT  Accident_Type, COUNT(*) as `จำนวนการเกิดอุบัติเหตุ` \n",
    "           FROM logs \n",
    "           WHERE Province = 'พะเยา'\n",
    "           GROUP BY  Accident_Type\n",
    "           ORDER BY `จำนวนการเกิดอุบัติเหตุ` desc\n",
    "           \n",
    "         ''').show(20,False)"
   ]
  },
  {
   "cell_type": "code",
   "execution_count": 91,
   "id": "9a50cd8c",
   "metadata": {},
   "outputs": [
    {
     "name": "stdout",
     "output_type": "stream",
     "text": [
      "+------------------+----------------------+\n",
      "|รวมจำนวนผู้บาดเจ็บ|จำนวนการเกิดอุบัติเหตุ|\n",
      "+------------------+----------------------+\n",
      "|1                 |155                   |\n",
      "|0                 |91                    |\n",
      "|2                 |49                    |\n",
      "|3                 |11                    |\n",
      "|4                 |9                     |\n",
      "|6                 |2                     |\n",
      "|5                 |2                     |\n",
      "|14                |1                     |\n",
      "+------------------+----------------------+\n",
      "\n"
     ]
    }
   ],
   "source": [
    "# รวมผู้บาดเจ็บจากอุบัติเหตุ\n",
    "spark.sql('''\n",
    "    SELECT Total_of_Injuries as `รวมจำนวนผู้บาดเจ็บ`, COUNT(*) AS `จำนวนการเกิดอุบัติเหตุ`\n",
    "    FROM logs\n",
    "    WHERE Province = 'พะเยา'\n",
    "    GROUP BY Total_of_Injuries\n",
    "    ORDER BY `จำนวนการเกิดอุบัติเหตุ` DESC\n",
    "''').show(10,False)"
   ]
  },
  {
   "cell_type": "markdown",
   "id": "08aaca2a",
   "metadata": {},
   "source": [
    "Data Dictionary\n",
    "\n",
    "- ปีที่เกิดเหตุ: ปีที่เหตุการณ์เกิดขึ้น เช่น 2022\n",
    "- วันที่เกิดเหตุ: วันที่เหตุเกิดขึ้น เช่น 1/1/2022\n",
    "- เวลา: เวลาที่เหตุเกิดขึ้น เช่น 2:20\n",
    "- วันที่รายงาน: วันที่เหตุถูกรายงาน เช่น 4/1/2022\n",
    "- เวลาที่รายงาน: เวลาที่เหตุถูกรายงาน เช่น 11:19\n",
    "- ACC_CODE: รหัสเหตุการณ์อุบัติเหตุ\n",
    "- หน่วยงาน: หน่วยงานที่รายงานเหตุการณ์\n",
    "- รหัสสายทาง: รหัสสายทางที่เกิดเหตุ\n",
    "- สายทาง: ชื่อสายทาง\n",
    "- ก.ม.: ระยะทางในหน่วยกิโลเมตร\n",
    "- จังหวัด: จังหวัดที่เหตุเกิดขึ้น\n",
    "- รถคันที่ 1: ประเภทของรถคันที่ 1\n",
    "- บริเวณที่เกิดเหตุ/ลักษณะทาง: บริเวณที่เหตุเกิดขึ้นหรือลักษณะของถนน\n",
    "- มูลเหตุสันนิษฐาน: การสันนิษฐานในเหตุการณ์\n",
    "- ลักษณะการเกิดอุบัติเหตุ: ลักษณะเหตุการณ์อุบัติเหตุ\n",
    "- สภาพอากาศ: สภาพอากาศในเวลาเกิดเหตุ\n",
    "- LATITUDE: ละติจูด\n",
    "- LONGITUDE: ลองจิจูด\n",
    "- จำนวนรถที่เกิดเหตุ (รวมคันที่ 1): จำนวนรถที่เกี่ยวข้องในเหตุการณ์\n",
    "- จำนวนที่เกิดเหตุทั้งหมด (รวมคนเดินเท้า): จำนวนผู้เกี่ยวข้องทั้งหมดในเหตุการณ์\n",
    "- รถจักรยานยนต์: จำนวนรถจักรยานยนต์ในเหตุการณ์\n",
    "- รถสามล้อเครื่อง: จำนวนรถสามล้อเครื่องยนต์ในเหตุการณ์\n",
    "- รถยนต์นั่งส่วนบุคคล/รถยนต์นั่งสาธารณะ: จำนวนรถยนต์นั่งส่วนบุคคลหรือรถยนต์นั่งสาธารณะในเหตุการณ์\n",
    "- รถตู้: จำนวนรถตู้ในเหตุการณ์\n",
    "- รถปิคอัพโดยสาร: จำนวนรถปิคอัพโดยสารในเหตุการณ์\n",
    "- รถโดยสารมากกว่า 4 ล้อ: จำนวนรถโดยสารมากกว่า 4 ล้อในเหตุการณ์\n",
    "- รถปิคอัพบรรทุก 4 ล้อ: จำนวนรถปิคอัพบรรทุก 4 ล้อในเหตุการณ์\n",
    "- รถบรรทุก 6 ล้อ: จำนวนรถบรรทุก 6 ล้อในเหตุการณ์\n",
    "- รถบรรทุกมากกว่า 6 ล้อ ไม่เกิน 10 ล้อ: จำนวนรถบรรทุกมากกว่า 6 ล้อ ไม่เกิน 10 ล้อในเหตุการณ์\n",
    "- รถบรรทุกมากกว่า 10 ล้อ (รถพ่วง): จำนวนรถบรรทุกมากกว่า 10 ล้อ (รถพ่วง) ในเหตุการณ์\n",
    "- รถอีแต๋น: จำนวนรถอีแต๋นในเหตุการณ์\n",
    "- อื่นๆ: จำนวนอื่นๆ ในเหตุการณ์\n",
    "- คนเดินเท้า: จำนวนคนเดินเท้าในเหตุการณ์\n",
    "- จำนวนผู้เสียชีวิต: จำนวนผู้เสียชีวิตในเหตุการณ์\n",
    "- จำนวนผู้บาดเจ็บสาหัส: จำนวนผู้บาดเจ็บสาหัสในเหตุการณ์\n",
    "- จำนวนผู้บาดเจ็บเล็กน้อย: จำนวนผู้บาดเจ็บเล็กน้อยในเหตุการณ์\n",
    "- รวมจำนวนผู้บาดเจ็บ: รวมจำนวนผู้บาดเจ็บในเหตุการณ์"
   ]
  }
 ],
 "metadata": {
  "kernelspec": {
   "display_name": "Python 3 (ipykernel)",
   "language": "python",
   "name": "python3"
  },
  "language_info": {
   "codemirror_mode": {
    "name": "ipython",
    "version": 3
   },
   "file_extension": ".py",
   "mimetype": "text/x-python",
   "name": "python",
   "nbconvert_exporter": "python",
   "pygments_lexer": "ipython3",
   "version": "3.10.12"
  }
 },
 "nbformat": 4,
 "nbformat_minor": 5
}
